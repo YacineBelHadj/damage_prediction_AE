{
 "cells": [
  {
   "cell_type": "code",
   "execution_count": 1,
   "metadata": {},
   "outputs": [],
   "source": [
    "from config import settings\n",
    "from src.data import datamodule as dm\n",
    "from pathlib import Path\n",
    "from src.model.transformation import FromBuffer , CutPSD\n",
    "import matplotlib.pyplot as plt\n",
    "from torch import nn \n",
    "from src.data.utils import print_database_overview, load_all_from_db\n"
   ]
  },
  {
   "cell_type": "code",
   "execution_count": 2,
   "metadata": {},
   "outputs": [
    {
     "name": "stdout",
     "output_type": "stream",
     "text": [
      "\u001b[1;34mSQLite Database Overview\u001b[0m\n",
      "\u001b[1;33mTable: processed_data\u001b[0m \u001b[0;36m- id, timestamp, turbine_name, Welch_X, Welch_Y, Welch_Z, RMS_X, RMS_Y, RMS_Z, RollingAverage_X, RollingAverage_Y, RollingAverage_Z, Range_X, Range_Y, Range_Z, Mean_X, Mean_Y, Mean_Z\u001b[0m\n",
      "\u001b[1;33mTable: sqlite_sequence\u001b[0m \u001b[0;36m- name, seq\u001b[0m\n",
      "\u001b[1;33mTable: metadata\u001b[0m \u001b[0;36m- frequency_axis, sample_rate, window_size, processing_method\u001b[0m\n"
     ]
    }
   ],
   "source": [
    "db_path = Path(settings.path.processed, 'processed.db')\n",
    "assert db_path.exists(), f\"Database not found at {db_path}\"\n",
    "print_database_overview(db_path)\n",
    "meta_data = load_all_from_db(db_path, 'metadata')\n",
    "frequency_axis = FromBuffer()(meta_data.loc[0,'frequency_axis'])"
   ]
  },
  {
   "cell_type": "code",
   "execution_count": null,
   "metadata": {},
   "outputs": [],
   "source": [
    "\n",
    "columns = ['Welch']\n",
    "transform = [nn.Sequential(FromBuffer(), CutPSD(frequency_axis, (0, 5)))]\n",
    "query_schema = f''' \n",
    "SELECT id FROM (\n",
    "    SELECT Welch_X As Welch, id,timestamp \n",
    "    FROM processed_data\n",
    "    UNION ALL\n",
    "    SELECT Welch_Y As Welch, id, timestamp  a\n",
    "    FROM processed_data\n",
    "    UNION ALL\n",
    "    SELECT Welch_Z As Welch, id,timestamp  as id\n",
    "    FROM processed_data\n",
    ")\n",
    "WHERE timestamp BETWEEN {settings.norther.training_start} AND {settings.norther.training_end}\n",
    "'''\n",
    "data_module = dm.DataModule(db_path, query_schema, columns, transform, batch_size=32, num_workers=4)"
   ]
  }
 ],
 "metadata": {
  "kernelspec": {
   "display_name": ".venv",
   "language": "python",
   "name": "python3"
  },
  "language_info": {
   "codemirror_mode": {
    "name": "ipython",
    "version": 3
   },
   "file_extension": ".py",
   "mimetype": "text/x-python",
   "name": "python",
   "nbconvert_exporter": "python",
   "pygments_lexer": "ipython3",
   "version": "3.10.12"
  }
 },
 "nbformat": 4,
 "nbformat_minor": 2
}
